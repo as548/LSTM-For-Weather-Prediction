{
 "cells": [
  {
   "cell_type": "code",
   "execution_count": 1,
   "id": "ed714586",
   "metadata": {},
   "outputs": [],
   "source": [
    "import pandas as pd\n",
    "import numpy as np\n",
    "import os\n"
   ]
  },
  {
   "cell_type": "code",
   "execution_count": 2,
   "id": "bde31f6f",
   "metadata": {},
   "outputs": [],
   "source": [
    "df=pd.read_csv(\"kolkata_2007-2022.csv\")"
   ]
  },
  {
   "cell_type": "code",
   "execution_count": 3,
   "id": "842a99a6",
   "metadata": {},
   "outputs": [
    {
     "data": {
      "text/html": [
       "<div>\n",
       "<style scoped>\n",
       "    .dataframe tbody tr th:only-of-type {\n",
       "        vertical-align: middle;\n",
       "    }\n",
       "\n",
       "    .dataframe tbody tr th {\n",
       "        vertical-align: top;\n",
       "    }\n",
       "\n",
       "    .dataframe thead th {\n",
       "        text-align: right;\n",
       "    }\n",
       "</style>\n",
       "<table border=\"1\" class=\"dataframe\">\n",
       "  <thead>\n",
       "    <tr style=\"text-align: right;\">\n",
       "      <th></th>\n",
       "      <th>Date Time</th>\n",
       "      <th>2-dewTemp(k)</th>\n",
       "      <th>Precipitation(m)</th>\n",
       "      <th>Surface Pressure(Pa)</th>\n",
       "      <th>Rainfall Rate(kgm-2sec-1)</th>\n",
       "      <th>Temperature(k)</th>\n",
       "      <th>Evaporation</th>\n",
       "      <th>100-v-wind(m/sec)</th>\n",
       "      <th>100-u-wind(m/sec)</th>\n",
       "      <th>10-v-wind(m/sec)</th>\n",
       "      <th>10-u-wind(m/sec)</th>\n",
       "    </tr>\n",
       "  </thead>\n",
       "  <tbody>\n",
       "    <tr>\n",
       "      <th>0</th>\n",
       "      <td>01-01-2007 00:00</td>\n",
       "      <td>284.308554</td>\n",
       "      <td>0.0</td>\n",
       "      <td>0</td>\n",
       "      <td>0.0</td>\n",
       "      <td>285.769117</td>\n",
       "      <td>-0.000004</td>\n",
       "      <td>1.340944</td>\n",
       "      <td>0.213013</td>\n",
       "      <td>0.639707</td>\n",
       "      <td>1.258620</td>\n",
       "    </tr>\n",
       "    <tr>\n",
       "      <th>1</th>\n",
       "      <td>01-01-2007 01:00</td>\n",
       "      <td>284.003139</td>\n",
       "      <td>0.0</td>\n",
       "      <td>0</td>\n",
       "      <td>0.0</td>\n",
       "      <td>284.965034</td>\n",
       "      <td>-0.000005</td>\n",
       "      <td>0.974300</td>\n",
       "      <td>1.344026</td>\n",
       "      <td>-0.200441</td>\n",
       "      <td>1.793706</td>\n",
       "    </tr>\n",
       "    <tr>\n",
       "      <th>2</th>\n",
       "      <td>01-01-2007 02:00</td>\n",
       "      <td>284.205460</td>\n",
       "      <td>0.0</td>\n",
       "      <td>0</td>\n",
       "      <td>0.0</td>\n",
       "      <td>287.165814</td>\n",
       "      <td>-0.000021</td>\n",
       "      <td>0.815108</td>\n",
       "      <td>1.958998</td>\n",
       "      <td>-0.158952</td>\n",
       "      <td>1.511432</td>\n",
       "    </tr>\n",
       "    <tr>\n",
       "      <th>3</th>\n",
       "      <td>01-01-2007 03:00</td>\n",
       "      <td>284.893180</td>\n",
       "      <td>0.0</td>\n",
       "      <td>0</td>\n",
       "      <td>0.0</td>\n",
       "      <td>292.670003</td>\n",
       "      <td>-0.000081</td>\n",
       "      <td>0.774050</td>\n",
       "      <td>1.550442</td>\n",
       "      <td>0.276104</td>\n",
       "      <td>0.867998</td>\n",
       "    </tr>\n",
       "    <tr>\n",
       "      <th>4</th>\n",
       "      <td>01-01-2007 04:00</td>\n",
       "      <td>283.746264</td>\n",
       "      <td>0.0</td>\n",
       "      <td>0</td>\n",
       "      <td>0.0</td>\n",
       "      <td>293.361634</td>\n",
       "      <td>-0.000163</td>\n",
       "      <td>1.423781</td>\n",
       "      <td>1.064937</td>\n",
       "      <td>1.088016</td>\n",
       "      <td>0.831407</td>\n",
       "    </tr>\n",
       "    <tr>\n",
       "      <th>...</th>\n",
       "      <td>...</td>\n",
       "      <td>...</td>\n",
       "      <td>...</td>\n",
       "      <td>...</td>\n",
       "      <td>...</td>\n",
       "      <td>...</td>\n",
       "      <td>...</td>\n",
       "      <td>...</td>\n",
       "      <td>...</td>\n",
       "      <td>...</td>\n",
       "      <td>...</td>\n",
       "    </tr>\n",
       "    <tr>\n",
       "      <th>140251</th>\n",
       "      <td>31-12-2022 19:00</td>\n",
       "      <td>289.768091</td>\n",
       "      <td>0.0</td>\n",
       "      <td>0</td>\n",
       "      <td>0.0</td>\n",
       "      <td>291.188584</td>\n",
       "      <td>-0.000004</td>\n",
       "      <td>1.219038</td>\n",
       "      <td>-3.196883</td>\n",
       "      <td>-0.142054</td>\n",
       "      <td>-1.699353</td>\n",
       "    </tr>\n",
       "    <tr>\n",
       "      <th>140252</th>\n",
       "      <td>31-12-2022 20:00</td>\n",
       "      <td>289.469715</td>\n",
       "      <td>0.0</td>\n",
       "      <td>0</td>\n",
       "      <td>0.0</td>\n",
       "      <td>290.636282</td>\n",
       "      <td>-0.000005</td>\n",
       "      <td>1.029796</td>\n",
       "      <td>-3.420987</td>\n",
       "      <td>-0.261826</td>\n",
       "      <td>-1.647511</td>\n",
       "    </tr>\n",
       "    <tr>\n",
       "      <th>140253</th>\n",
       "      <td>31-12-2022 21:00</td>\n",
       "      <td>289.520129</td>\n",
       "      <td>0.0</td>\n",
       "      <td>0</td>\n",
       "      <td>0.0</td>\n",
       "      <td>290.887008</td>\n",
       "      <td>-0.000004</td>\n",
       "      <td>0.737331</td>\n",
       "      <td>-3.421921</td>\n",
       "      <td>-0.420285</td>\n",
       "      <td>-1.565637</td>\n",
       "    </tr>\n",
       "    <tr>\n",
       "      <th>140254</th>\n",
       "      <td>31-12-2022 22:00</td>\n",
       "      <td>289.573531</td>\n",
       "      <td>0.0</td>\n",
       "      <td>0</td>\n",
       "      <td>0.0</td>\n",
       "      <td>290.194742</td>\n",
       "      <td>-0.000005</td>\n",
       "      <td>1.210117</td>\n",
       "      <td>-3.048880</td>\n",
       "      <td>-0.301043</td>\n",
       "      <td>-1.522375</td>\n",
       "    </tr>\n",
       "    <tr>\n",
       "      <th>140255</th>\n",
       "      <td>31-12-2022 23:00</td>\n",
       "      <td>289.505565</td>\n",
       "      <td>0.0</td>\n",
       "      <td>0</td>\n",
       "      <td>0.0</td>\n",
       "      <td>290.125264</td>\n",
       "      <td>-0.000003</td>\n",
       "      <td>0.831634</td>\n",
       "      <td>-3.438262</td>\n",
       "      <td>-0.471692</td>\n",
       "      <td>-1.616406</td>\n",
       "    </tr>\n",
       "  </tbody>\n",
       "</table>\n",
       "<p>140256 rows × 11 columns</p>\n",
       "</div>"
      ],
      "text/plain": [
       "               Date Time  2-dewTemp(k)  Precipitation(m)  \\\n",
       "0       01-01-2007 00:00    284.308554               0.0   \n",
       "1       01-01-2007 01:00    284.003139               0.0   \n",
       "2       01-01-2007 02:00    284.205460               0.0   \n",
       "3       01-01-2007 03:00    284.893180               0.0   \n",
       "4       01-01-2007 04:00    283.746264               0.0   \n",
       "...                  ...           ...               ...   \n",
       "140251  31-12-2022 19:00    289.768091               0.0   \n",
       "140252  31-12-2022 20:00    289.469715               0.0   \n",
       "140253  31-12-2022 21:00    289.520129               0.0   \n",
       "140254  31-12-2022 22:00    289.573531               0.0   \n",
       "140255  31-12-2022 23:00    289.505565               0.0   \n",
       "\n",
       "        Surface Pressure(Pa)  Rainfall Rate(kgm-2sec-1)  Temperature(k)  \\\n",
       "0                          0                        0.0      285.769117   \n",
       "1                          0                        0.0      284.965034   \n",
       "2                          0                        0.0      287.165814   \n",
       "3                          0                        0.0      292.670003   \n",
       "4                          0                        0.0      293.361634   \n",
       "...                      ...                        ...             ...   \n",
       "140251                     0                        0.0      291.188584   \n",
       "140252                     0                        0.0      290.636282   \n",
       "140253                     0                        0.0      290.887008   \n",
       "140254                     0                        0.0      290.194742   \n",
       "140255                     0                        0.0      290.125264   \n",
       "\n",
       "        Evaporation  100-v-wind(m/sec)  100-u-wind(m/sec)  10-v-wind(m/sec)  \\\n",
       "0         -0.000004           1.340944           0.213013          0.639707   \n",
       "1         -0.000005           0.974300           1.344026         -0.200441   \n",
       "2         -0.000021           0.815108           1.958998         -0.158952   \n",
       "3         -0.000081           0.774050           1.550442          0.276104   \n",
       "4         -0.000163           1.423781           1.064937          1.088016   \n",
       "...             ...                ...                ...               ...   \n",
       "140251    -0.000004           1.219038          -3.196883         -0.142054   \n",
       "140252    -0.000005           1.029796          -3.420987         -0.261826   \n",
       "140253    -0.000004           0.737331          -3.421921         -0.420285   \n",
       "140254    -0.000005           1.210117          -3.048880         -0.301043   \n",
       "140255    -0.000003           0.831634          -3.438262         -0.471692   \n",
       "\n",
       "        10-u-wind(m/sec)  \n",
       "0               1.258620  \n",
       "1               1.793706  \n",
       "2               1.511432  \n",
       "3               0.867998  \n",
       "4               0.831407  \n",
       "...                  ...  \n",
       "140251         -1.699353  \n",
       "140252         -1.647511  \n",
       "140253         -1.565637  \n",
       "140254         -1.522375  \n",
       "140255         -1.616406  \n",
       "\n",
       "[140256 rows x 11 columns]"
      ]
     },
     "execution_count": 3,
     "metadata": {},
     "output_type": "execute_result"
    }
   ],
   "source": [
    "df"
   ]
  },
  {
   "cell_type": "code",
   "execution_count": 4,
   "id": "f8a4fff3",
   "metadata": {},
   "outputs": [],
   "source": [
    "# df.index=pd.to_datetime(df['Date Time'], format='%d.%m.%Y %H:%M:%S')\n",
    "# df[:26]"
   ]
  },
  {
   "cell_type": "code",
   "execution_count": 5,
   "id": "06f7320b",
   "metadata": {},
   "outputs": [
    {
     "data": {
      "text/plain": [
       "<AxesSubplot:>"
      ]
     },
     "execution_count": 5,
     "metadata": {},
     "output_type": "execute_result"
    },
    {
     "data": {
      "image/png": "[encoded data removed]",
      "text/plain": [
       "<Figure size 432x288 with 1 Axes>"
      ]
     },
     "metadata": {
      "needs_background": "light"
     },
     "output_type": "display_data"
    }
   ],
   "source": [
    "temp=df['Temperature(k)']\n",
    "temp.plot()"
   ]
  },
  {
   "cell_type": "code",
   "execution_count": 6,
   "id": "179d69f4",
   "metadata": {},
   "outputs": [],
   "source": [
    "# [[[1],[2],[3],[4],[5]]][6]\n",
    "# [[[2],[3],[4],[5],[6]]][7]\n",
    "# [[3,4,5,6,7]][8]\n"
   ]
  },
  {
   "cell_type": "code",
   "execution_count": 7,
   "id": "db265804",
   "metadata": {},
   "outputs": [],
   "source": [
    "def df_to_X_y(df,window_size=10):\n",
    "    df_as_np=df.to_numpy()\n",
    "    X=[]\n",
    "    y=[]\n",
    "    for i in range(len(df_as_np)-window_size):\n",
    "        row=[[a]for a in df_as_np[i:i+10]]\n",
    "        X.append(row)\n",
    "        label=df_as_np[i+10]\n",
    "        y.append(label)\n",
    "    return np.array(X), np.array(y)    "
   ]
  },
  {
   "cell_type": "code",
   "execution_count": 8,
   "id": "2652aaea",
   "metadata": {},
   "outputs": [
    {
     "data": {
      "text/plain": [
       "((140246, 10, 1), (140246,))"
      ]
     },
     "execution_count": 8,
     "metadata": {},
     "output_type": "execute_result"
    }
   ],
   "source": [
    "WINDOW_SIZE=10\n",
    "X,y=df_to_X_y(temp,WINDOW_SIZE)\n",
    "X.shape,y.shape\n"
   ]
  },
  {
   "cell_type": "code",
   "execution_count": 9,
   "id": "a6a8550e",
   "metadata": {},
   "outputs": [
    {
     "data": {
      "text/plain": [
       "array([[[285.7691173],\n",
       "        [284.9650341],\n",
       "        [287.1658139],\n",
       "        ...,\n",
       "        [298.3135128],\n",
       "        [298.9538935],\n",
       "        [299.8515211]],\n",
       "\n",
       "       [[284.9650341],\n",
       "        [287.1658139],\n",
       "        [292.6700027],\n",
       "        ...,\n",
       "        [298.9538935],\n",
       "        [299.8515211],\n",
       "        [295.3126303]],\n",
       "\n",
       "       [[287.1658139],\n",
       "        [292.6700027],\n",
       "        [293.3616337],\n",
       "        ...,\n",
       "        [299.8515211],\n",
       "        [295.3126303],\n",
       "        [294.7961461]],\n",
       "\n",
       "       ...,\n",
       "\n",
       "       [[296.1764244],\n",
       "        [295.168485 ],\n",
       "        [295.2294044],\n",
       "        ...,\n",
       "        [290.7782595],\n",
       "        [291.1885845],\n",
       "        [290.636282 ]],\n",
       "\n",
       "       [[295.168485 ],\n",
       "        [295.2294044],\n",
       "        [293.5790421],\n",
       "        ...,\n",
       "        [291.1885845],\n",
       "        [290.636282 ],\n",
       "        [290.8870082]],\n",
       "\n",
       "       [[295.2294044],\n",
       "        [293.5790421],\n",
       "        [291.3104233],\n",
       "        ...,\n",
       "        [290.636282 ],\n",
       "        [290.8870082],\n",
       "        [290.1947421]]])"
      ]
     },
     "execution_count": 9,
     "metadata": {},
     "output_type": "execute_result"
    }
   ],
   "source": [
    "X\n"
   ]
  },
  {
   "cell_type": "code",
   "execution_count": 10,
   "id": "17f2183e",
   "metadata": {},
   "outputs": [
    {
     "data": {
      "text/plain": [
       "array([295.3126303, 294.7961461, 292.7257312, ..., 290.8870082,\n",
       "       290.1947421, 290.1252638])"
      ]
     },
     "execution_count": 10,
     "metadata": {},
     "output_type": "execute_result"
    }
   ],
   "source": [
    "y"
   ]
  },
  {
   "cell_type": "code",
   "execution_count": 11,
   "id": "0cc034ae",
   "metadata": {},
   "outputs": [
    {
     "data": {
      "text/plain": [
       "((100000, 10, 1),\n",
       " (100000,),\n",
       " (10000, 10, 1),\n",
       " (10000,),\n",
       " (30246, 10, 1),\n",
       " (30246,))"
      ]
     },
     "execution_count": 11,
     "metadata": {},
     "output_type": "execute_result"
    }
   ],
   "source": [
    "X_train, y_train=X[:100000],y[:100000]\n",
    "X_val, y_val=X[100000:110000],y[100000:110000]\n",
    "X_test, y_test=X[110000:],y[110000:]\n",
    "X_train.shape,y_train.shape,X_val.shape, y_val.shape,X_test.shape,y_test.shape"
   ]
  },
  {
   "cell_type": "code",
   "execution_count": 12,
   "id": "206ab47c",
   "metadata": {},
   "outputs": [
    {
     "name": "stdout",
     "output_type": "stream",
     "text": [
      "Model: \"sequential\"\n",
      "_________________________________________________________________\n",
      " Layer (type)                Output Shape              Param #   \n",
      "=================================================================\n",
      " lstm (LSTM)                 (None, 64)                16896     \n",
      "                                                                 \n",
      " dense (Dense)               (None, 8)                 520       \n",
      "                                                                 \n",
      " dense_1 (Dense)             (None, 1)                 9         \n",
      "                                                                 \n",
      "=================================================================\n",
      "Total params: 17,425\n",
      "Trainable params: 17,425\n",
      "Non-trainable params: 0\n",
      "_________________________________________________________________\n"
     ]
    }
   ],
   "source": [
    "from tensorflow.keras.models import Sequential\n",
    "from tensorflow.keras.layers import *\n",
    "from tensorflow.keras.callbacks import ModelCheckpoint\n",
    "from tensorflow.keras.losses import MeanSquaredError\n",
    "from tensorflow.keras.metrics import RootMeanSquaredError\n",
    "from tensorflow.keras.optimizers import Adam\n",
    "\n",
    "model1=Sequential()\n",
    "model1.add(InputLayer((10,1)))\n",
    "model1.add(LSTM(64))\n",
    "model1.add(Dense(8,'relu'))\n",
    "model1.add(Dense(1,'linear'))\n",
    "\n",
    "model1.summary()\n"
   ]
  },
  {
   "cell_type": "code",
   "execution_count": 13,
   "id": "12c267e8",
   "metadata": {},
   "outputs": [],
   "source": [
    "cp=ModelCheckpoint('model1/',save_best_only=True)\n",
    "model1.compile(loss=MeanSquaredError(),optimizer=Adam(learning_rate=0.0001),metrics=[RootMeanSquaredError()])"
   ]
  },
  {
   "cell_type": "code",
   "execution_count": 14,
   "id": "daccedf5",
   "metadata": {},
   "outputs": [
    {
     "name": "stdout",
     "output_type": "stream",
     "text": [
      "Epoch 1/100\n",
      "3124/3125 [============================>.] - ETA: 0s - loss: 84840.7891 - root_mean_squared_error: 291.2744"
     ]
    },
    {
     "name": "stderr",
     "output_type": "stream",
     "text": [
      "WARNING:absl:Found untraced functions such as _update_step_xla, lstm_cell_layer_call_fn, lstm_cell_layer_call_and_return_conditional_losses while saving (showing 3 of 3). These functions will not be directly callable after loading.\n"
     ]
    },
    {
     "name": "stdout",
     "output_type": "stream",
     "text": [
      "INFO:tensorflow:Assets written to: model1\\assets\n"
     ]
    },
    {
     "name": "stderr",
     "output_type": "stream",
     "text": [
      "INFO:tensorflow:Assets written to: model1\\assets\n"
     ]
    },
    {
     "name": "stdout",
     "output_type": "stream",
     "text": [
      "3125/3125 [==============================] - 25s 7ms/step - loss: 84838.8438 - root_mean_squared_error: 291.2711 - val_loss: 78874.7109 - val_root_mean_squared_error: 280.8464\n",
      "Epoch 2/100\n",
      "3116/3125 [============================>.] - ETA: 0s - loss: 69495.1719 - root_mean_squared_error: 263.6194"
     ]
    },
    {
     "name": "stderr",
     "output_type": "stream",
     "text": [
      "WARNING:absl:Found untraced functions such as _update_step_xla, lstm_cell_layer_call_fn, lstm_cell_layer_call_and_return_conditional_losses while saving (showing 3 of 3). These functions will not be directly callable after loading.\n"
     ]
    },
    {
     "name": "stdout",
     "output_type": "stream",
     "text": [
      "INFO:tensorflow:Assets written to: model1\\assets\n"
     ]
    },
    {
     "name": "stderr",
     "output_type": "stream",
     "text": [
      "INFO:tensorflow:Assets written to: model1\\assets\n"
     ]
    },
    {
     "name": "stdout",
     "output_type": "stream",
     "text": [
      "3125/3125 [==============================] - 23s 7ms/step - loss: 69466.6406 - root_mean_squared_error: 263.5652 - val_loss: 59787.7422 - val_root_mean_squared_error: 244.5153\n",
      "Epoch 3/100\n",
      "3116/3125 [============================>.] - ETA: 0s - loss: 48737.9258 - root_mean_squared_error: 220.7667"
     ]
    },
    {
     "name": "stderr",
     "output_type": "stream",
     "text": [
      "WARNING:absl:Found untraced functions such as _update_step_xla, lstm_cell_layer_call_fn, lstm_cell_layer_call_and_return_conditional_losses while saving (showing 3 of 3). These functions will not be directly callable after loading.\n"
     ]
    },
    {
     "name": "stdout",
     "output_type": "stream",
     "text": [
      "INFO:tensorflow:Assets written to: model1\\assets\n"
     ]
    },
    {
     "name": "stderr",
     "output_type": "stream",
     "text": [
      "INFO:tensorflow:Assets written to: model1\\assets\n"
     ]
    },
    {
     "name": "stdout",
     "output_type": "stream",
     "text": [
      "3125/3125 [==============================] - 23s 7ms/step - loss: 48706.3203 - root_mean_squared_error: 220.6951 - val_loss: 37993.4258 - val_root_mean_squared_error: 194.9190\n",
      "Epoch 4/100\n",
      "3123/3125 [============================>.] - ETA: 0s - loss: 27241.8555 - root_mean_squared_error: 165.0511"
     ]
    },
    {
     "name": "stderr",
     "output_type": "stream",
     "text": [
      "WARNING:absl:Found untraced functions such as _update_step_xla, lstm_cell_layer_call_fn, lstm_cell_layer_call_and_return_conditional_losses while saving (showing 3 of 3). These functions will not be directly callable after loading.\n"
     ]
    },
    {
     "name": "stdout",
     "output_type": "stream",
     "text": [
      "INFO:tensorflow:Assets written to: model1\\assets\n"
     ]
    },
    {
     "name": "stderr",
     "output_type": "stream",
     "text": [
      "INFO:tensorflow:Assets written to: model1\\assets\n"
     ]
    },
    {
     "name": "stdout",
     "output_type": "stream",
     "text": [
      "3125/3125 [==============================] - 22s 7ms/step - loss: 27235.7012 - root_mean_squared_error: 165.0324 - val_loss: 17678.8379 - val_root_mean_squared_error: 132.9618\n",
      "Epoch 5/100\n",
      "3124/3125 [============================>.] - ETA: 0s - loss: 10226.6250 - root_mean_squared_error: 101.1268"
     ]
    },
    {
     "name": "stderr",
     "output_type": "stream",
     "text": [
      "WARNING:absl:Found untraced functions such as _update_step_xla, lstm_cell_layer_call_fn, lstm_cell_layer_call_and_return_conditional_losses while saving (showing 3 of 3). These functions will not be directly callable after loading.\n"
     ]
    },
    {
     "name": "stdout",
     "output_type": "stream",
     "text": [
      "INFO:tensorflow:Assets written to: model1\\assets\n"
     ]
    },
    {
     "name": "stderr",
     "output_type": "stream",
     "text": [
      "INFO:tensorflow:Assets written to: model1\\assets\n"
     ]
    },
    {
     "name": "stdout",
     "output_type": "stream",
     "text": [
      "3125/3125 [==============================] - 21s 7ms/step - loss: 10224.8076 - root_mean_squared_error: 101.1178 - val_loss: 4454.1694 - val_root_mean_squared_error: 66.7396\n",
      "Epoch 6/100\n",
      "3116/3125 [============================>.] - ETA: 0s - loss: 1604.7494 - root_mean_squared_error: 40.0593"
     ]
    },
    {
     "name": "stderr",
     "output_type": "stream",
     "text": [
      "WARNING:absl:Found untraced functions such as _update_step_xla, lstm_cell_layer_call_fn, lstm_cell_layer_call_and_return_conditional_losses while saving (showing 3 of 3). These functions will not be directly callable after loading.\n"
     ]
    },
    {
     "name": "stdout",
     "output_type": "stream",
     "text": [
      "INFO:tensorflow:Assets written to: model1\\assets\n"
     ]
    },
    {
     "name": "stderr",
     "output_type": "stream",
     "text": [
      "INFO:tensorflow:Assets written to: model1\\assets\n"
     ]
    },
    {
     "name": "stdout",
     "output_type": "stream",
     "text": [
      "3125/3125 [==============================] - 23s 7ms/step - loss: 1600.6190 - root_mean_squared_error: 40.0077 - val_loss: 171.6268 - val_root_mean_squared_error: 13.1006\n",
      "Epoch 7/100\n",
      "3116/3125 [============================>.] - ETA: 0s - loss: 45.9079 - root_mean_squared_error: 6.7755"
     ]
    },
    {
     "name": "stderr",
     "output_type": "stream",
     "text": [
      "WARNING:absl:Found untraced functions such as _update_step_xla, lstm_cell_layer_call_fn, lstm_cell_layer_call_and_return_conditional_losses while saving (showing 3 of 3). These functions will not be directly callable after loading.\n"
     ]
    },
    {
     "name": "stdout",
     "output_type": "stream",
     "text": [
      "INFO:tensorflow:Assets written to: model1\\assets\n"
     ]
    },
    {
     "name": "stderr",
     "output_type": "stream",
     "text": [
      "INFO:tensorflow:Assets written to: model1\\assets\n"
     ]
    },
    {
     "name": "stdout",
     "output_type": "stream",
     "text": [
      "3125/3125 [==============================] - 23s 7ms/step - loss: 45.8593 - root_mean_squared_error: 6.7719 - val_loss: 27.1244 - val_root_mean_squared_error: 5.2081\n",
      "Epoch 8/100\n",
      "3119/3125 [============================>.] - ETA: 0s - loss: 27.6679 - root_mean_squared_error: 5.2600"
     ]
    },
    {
     "name": "stderr",
     "output_type": "stream",
     "text": [
      "WARNING:absl:Found untraced functions such as _update_step_xla, lstm_cell_layer_call_fn, lstm_cell_layer_call_and_return_conditional_losses while saving (showing 3 of 3). These functions will not be directly callable after loading.\n"
     ]
    },
    {
     "name": "stdout",
     "output_type": "stream",
     "text": [
      "INFO:tensorflow:Assets written to: model1\\assets\n"
     ]
    },
    {
     "name": "stderr",
     "output_type": "stream",
     "text": [
      "INFO:tensorflow:Assets written to: model1\\assets\n"
     ]
    },
    {
     "name": "stdout",
     "output_type": "stream",
     "text": [
      "3125/3125 [==============================] - 26s 8ms/step - loss: 27.6668 - root_mean_squared_error: 5.2599 - val_loss: 25.2034 - val_root_mean_squared_error: 5.0203\n",
      "Epoch 9/100\n",
      "3121/3125 [============================>.] - ETA: 0s - loss: 25.2168 - root_mean_squared_error: 5.0216"
     ]
    },
    {
     "name": "stderr",
     "output_type": "stream",
     "text": [
      "WARNING:absl:Found untraced functions such as _update_step_xla, lstm_cell_layer_call_fn, lstm_cell_layer_call_and_return_conditional_losses while saving (showing 3 of 3). These functions will not be directly callable after loading.\n"
     ]
    },
    {
     "name": "stdout",
     "output_type": "stream",
     "text": [
      "INFO:tensorflow:Assets written to: model1\\assets\n"
     ]
    },
    {
     "name": "stderr",
     "output_type": "stream",
     "text": [
      "INFO:tensorflow:Assets written to: model1\\assets\n"
     ]
    },
    {
     "name": "stdout",
     "output_type": "stream",
     "text": [
      "3125/3125 [==============================] - 26s 8ms/step - loss: 25.2166 - root_mean_squared_error: 5.0216 - val_loss: 21.9258 - val_root_mean_squared_error: 4.6825\n",
      "Epoch 10/100\n",
      "3122/3125 [============================>.] - ETA: 0s - loss: 20.9718 - root_mean_squared_error: 4.5795"
     ]
    },
    {
     "name": "stderr",
     "output_type": "stream",
     "text": [
      "WARNING:absl:Found untraced functions such as _update_step_xla, lstm_cell_layer_call_fn, lstm_cell_layer_call_and_return_conditional_losses while saving (showing 3 of 3). These functions will not be directly callable after loading.\n"
     ]
    },
    {
     "name": "stdout",
     "output_type": "stream",
     "text": [
      "INFO:tensorflow:Assets written to: model1\\assets\n"
     ]
    },
    {
     "name": "stderr",
     "output_type": "stream",
     "text": [
      "INFO:tensorflow:Assets written to: model1\\assets\n"
     ]
    },
    {
     "name": "stdout",
     "output_type": "stream",
     "text": [
      "3125/3125 [==============================] - 26s 8ms/step - loss: 20.9683 - root_mean_squared_error: 4.5791 - val_loss: 17.1122 - val_root_mean_squared_error: 4.1367\n",
      "Epoch 11/100\n",
      "3121/3125 [============================>.] - ETA: 0s - loss: 15.5376 - root_mean_squared_error: 3.9418"
     ]
    },
    {
     "name": "stderr",
     "output_type": "stream",
     "text": [
      "WARNING:absl:Found untraced functions such as _update_step_xla, lstm_cell_layer_call_fn, lstm_cell_layer_call_and_return_conditional_losses while saving (showing 3 of 3). These functions will not be directly callable after loading.\n"
     ]
    },
    {
     "name": "stdout",
     "output_type": "stream",
     "text": [
      "INFO:tensorflow:Assets written to: model1\\assets\n"
     ]
    },
    {
     "name": "stderr",
     "output_type": "stream",
     "text": [
      "INFO:tensorflow:Assets written to: model1\\assets\n"
     ]
    },
    {
     "name": "stdout",
     "output_type": "stream",
     "text": [
      "3125/3125 [==============================] - 27s 9ms/step - loss: 15.5342 - root_mean_squared_error: 3.9413 - val_loss: 11.2105 - val_root_mean_squared_error: 3.3482\n",
      "Epoch 12/100\n",
      "3120/3125 [============================>.] - ETA: 0s - loss: 10.1177 - root_mean_squared_error: 3.1808"
     ]
    },
    {
     "name": "stderr",
     "output_type": "stream",
     "text": [
      "WARNING:absl:Found untraced functions such as _update_step_xla, lstm_cell_layer_call_fn, lstm_cell_layer_call_and_return_conditional_losses while saving (showing 3 of 3). These functions will not be directly callable after loading.\n"
     ]
    },
    {
     "name": "stdout",
     "output_type": "stream",
     "text": [
      "INFO:tensorflow:Assets written to: model1\\assets\n"
     ]
    },
    {
     "name": "stderr",
     "output_type": "stream",
     "text": [
      "INFO:tensorflow:Assets written to: model1\\assets\n"
     ]
    },
    {
     "name": "stdout",
     "output_type": "stream",
     "text": [
      "3125/3125 [==============================] - 25s 8ms/step - loss: 10.1149 - root_mean_squared_error: 3.1804 - val_loss: 7.7655 - val_root_mean_squared_error: 2.7867\n",
      "Epoch 13/100\n",
      "3125/3125 [==============================] - ETA: 0s - loss: 6.7928 - root_mean_squared_error: 2.6063"
     ]
    },
    {
     "name": "stderr",
     "output_type": "stream",
     "text": [
      "WARNING:absl:Found untraced functions such as _update_step_xla, lstm_cell_layer_call_fn, lstm_cell_layer_call_and_return_conditional_losses while saving (showing 3 of 3). These functions will not be directly callable after loading.\n"
     ]
    },
    {
     "name": "stdout",
     "output_type": "stream",
     "text": [
      "INFO:tensorflow:Assets written to: model1\\assets\n"
     ]
    },
    {
     "name": "stderr",
     "output_type": "stream",
     "text": [
      "INFO:tensorflow:Assets written to: model1\\assets\n"
     ]
    },
    {
     "name": "stdout",
     "output_type": "stream",
     "text": [
      "3125/3125 [==============================] - 27s 9ms/step - loss: 6.7928 - root_mean_squared_error: 2.6063 - val_loss: 4.8682 - val_root_mean_squared_error: 2.2064\n",
      "Epoch 14/100\n",
      "3124/3125 [============================>.] - ETA: 0s - loss: 5.1501 - root_mean_squared_error: 2.2694"
     ]
    },
    {
     "name": "stderr",
     "output_type": "stream",
     "text": [
      "WARNING:absl:Found untraced functions such as _update_step_xla, lstm_cell_layer_call_fn, lstm_cell_layer_call_and_return_conditional_losses while saving (showing 3 of 3). These functions will not be directly callable after loading.\n"
     ]
    },
    {
     "name": "stdout",
     "output_type": "stream",
     "text": [
      "INFO:tensorflow:Assets written to: model1\\assets\n"
     ]
    },
    {
     "name": "stderr",
     "output_type": "stream",
     "text": [
      "INFO:tensorflow:Assets written to: model1\\assets\n"
     ]
    },
    {
     "name": "stdout",
     "output_type": "stream",
     "text": [
      "3125/3125 [==============================] - 24s 8ms/step - loss: 5.1497 - root_mean_squared_error: 2.2693 - val_loss: 3.7434 - val_root_mean_squared_error: 1.9348\n",
      "Epoch 15/100\n",
      "3118/3125 [============================>.] - ETA: 0s - loss: 4.1794 - root_mean_squared_error: 2.0444"
     ]
    },
    {
     "name": "stderr",
     "output_type": "stream",
     "text": [
      "WARNING:absl:Found untraced functions such as _update_step_xla, lstm_cell_layer_call_fn, lstm_cell_layer_call_and_return_conditional_losses while saving (showing 3 of 3). These functions will not be directly callable after loading.\n"
     ]
    },
    {
     "name": "stdout",
     "output_type": "stream",
     "text": [
      "INFO:tensorflow:Assets written to: model1\\assets\n"
     ]
    },
    {
     "name": "stderr",
     "output_type": "stream",
     "text": [
      "INFO:tensorflow:Assets written to: model1\\assets\n"
     ]
    },
    {
     "name": "stdout",
     "output_type": "stream",
     "text": [
      "3125/3125 [==============================] - 25s 8ms/step - loss: 4.1780 - root_mean_squared_error: 2.0440 - val_loss: 3.5174 - val_root_mean_squared_error: 1.8755\n",
      "Epoch 16/100\n",
      "3116/3125 [============================>.] - ETA: 0s - loss: 3.5249 - root_mean_squared_error: 1.8775"
     ]
    },
    {
     "name": "stderr",
     "output_type": "stream",
     "text": [
      "WARNING:absl:Found untraced functions such as _update_step_xla, lstm_cell_layer_call_fn, lstm_cell_layer_call_and_return_conditional_losses while saving (showing 3 of 3). These functions will not be directly callable after loading.\n"
     ]
    },
    {
     "name": "stdout",
     "output_type": "stream",
     "text": [
      "INFO:tensorflow:Assets written to: model1\\assets\n"
     ]
    },
    {
     "name": "stderr",
     "output_type": "stream",
     "text": [
      "INFO:tensorflow:Assets written to: model1\\assets\n"
     ]
    },
    {
     "name": "stdout",
     "output_type": "stream",
     "text": [
      "3125/3125 [==============================] - 25s 8ms/step - loss: 3.5247 - root_mean_squared_error: 1.8774 - val_loss: 2.5740 - val_root_mean_squared_error: 1.6044\n",
      "Epoch 17/100\n",
      "3125/3125 [==============================] - 19s 6ms/step - loss: 3.0096 - root_mean_squared_error: 1.7348 - val_loss: 2.6336 - val_root_mean_squared_error: 1.6228\n",
      "Epoch 18/100\n",
      "3125/3125 [==============================] - ETA: 0s - loss: 2.6770 - root_mean_squared_error: 1.6362"
     ]
    },
    {
     "name": "stderr",
     "output_type": "stream",
     "text": [
      "WARNING:absl:Found untraced functions such as _update_step_xla, lstm_cell_layer_call_fn, lstm_cell_layer_call_and_return_conditional_losses while saving (showing 3 of 3). These functions will not be directly callable after loading.\n"
     ]
    },
    {
     "name": "stdout",
     "output_type": "stream",
     "text": [
      "INFO:tensorflow:Assets written to: model1\\assets\n"
     ]
    },
    {
     "name": "stderr",
     "output_type": "stream",
     "text": [
      "INFO:tensorflow:Assets written to: model1\\assets\n"
     ]
    },
    {
     "name": "stdout",
     "output_type": "stream",
     "text": [
      "3125/3125 [==============================] - 24s 8ms/step - loss: 2.6770 - root_mean_squared_error: 1.6362 - val_loss: 2.0358 - val_root_mean_squared_error: 1.4268\n",
      "Epoch 19/100\n",
      "3125/3125 [==============================] - ETA: 0s - loss: 2.4649 - root_mean_squared_error: 1.5700"
     ]
    },
    {
     "name": "stderr",
     "output_type": "stream",
     "text": [
      "WARNING:absl:Found untraced functions such as _update_step_xla, lstm_cell_layer_call_fn, lstm_cell_layer_call_and_return_conditional_losses while saving (showing 3 of 3). These functions will not be directly callable after loading.\n"
     ]
    },
    {
     "name": "stdout",
     "output_type": "stream",
     "text": [
      "INFO:tensorflow:Assets written to: model1\\assets\n"
     ]
    },
    {
     "name": "stderr",
     "output_type": "stream",
     "text": [
      "INFO:tensorflow:Assets written to: model1\\assets\n"
     ]
    },
    {
     "name": "stdout",
     "output_type": "stream",
     "text": [
      "3125/3125 [==============================] - 25s 8ms/step - loss: 2.4649 - root_mean_squared_error: 1.5700 - val_loss: 1.8319 - val_root_mean_squared_error: 1.3535\n",
      "Epoch 20/100\n",
      "3125/3125 [==============================] - ETA: 0s - loss: 2.3007 - root_mean_squared_error: 1.5168"
     ]
    },
    {
     "name": "stderr",
     "output_type": "stream",
     "text": [
      "WARNING:absl:Found untraced functions such as _update_step_xla, lstm_cell_layer_call_fn, lstm_cell_layer_call_and_return_conditional_losses while saving (showing 3 of 3). These functions will not be directly callable after loading.\n"
     ]
    },
    {
     "name": "stdout",
     "output_type": "stream",
     "text": [
      "INFO:tensorflow:Assets written to: model1\\assets\n"
     ]
    },
    {
     "name": "stderr",
     "output_type": "stream",
     "text": [
      "INFO:tensorflow:Assets written to: model1\\assets\n"
     ]
    },
    {
     "name": "stdout",
     "output_type": "stream",
     "text": [
      "3125/3125 [==============================] - 26s 8ms/step - loss: 2.3007 - root_mean_squared_error: 1.5168 - val_loss: 1.7964 - val_root_mean_squared_error: 1.3403\n",
      "Epoch 21/100\n",
      "3117/3125 [============================>.] - ETA: 0s - loss: 2.1857 - root_mean_squared_error: 1.4784"
     ]
    },
    {
     "name": "stderr",
     "output_type": "stream",
     "text": [
      "WARNING:absl:Found untraced functions such as _update_step_xla, lstm_cell_layer_call_fn, lstm_cell_layer_call_and_return_conditional_losses while saving (showing 3 of 3). These functions will not be directly callable after loading.\n"
     ]
    },
    {
     "name": "stdout",
     "output_type": "stream",
     "text": [
      "INFO:tensorflow:Assets written to: model1\\assets\n"
     ]
    },
    {
     "name": "stderr",
     "output_type": "stream",
     "text": [
      "INFO:tensorflow:Assets written to: model1\\assets\n"
     ]
    },
    {
     "name": "stdout",
     "output_type": "stream",
     "text": [
      "3125/3125 [==============================] - 24s 8ms/step - loss: 2.1853 - root_mean_squared_error: 1.4783 - val_loss: 1.6891 - val_root_mean_squared_error: 1.2997\n",
      "Epoch 22/100\n",
      "3121/3125 [============================>.] - ETA: 0s - loss: 2.0915 - root_mean_squared_error: 1.4462"
     ]
    },
    {
     "name": "stderr",
     "output_type": "stream",
     "text": [
      "WARNING:absl:Found untraced functions such as _update_step_xla, lstm_cell_layer_call_fn, lstm_cell_layer_call_and_return_conditional_losses while saving (showing 3 of 3). These functions will not be directly callable after loading.\n"
     ]
    },
    {
     "name": "stdout",
     "output_type": "stream",
     "text": [
      "INFO:tensorflow:Assets written to: model1\\assets\n"
     ]
    },
    {
     "name": "stderr",
     "output_type": "stream",
     "text": [
      "INFO:tensorflow:Assets written to: model1\\assets\n"
     ]
    },
    {
     "name": "stdout",
     "output_type": "stream",
     "text": [
      "3125/3125 [==============================] - 26s 8ms/step - loss: 2.0925 - root_mean_squared_error: 1.4465 - val_loss: 1.5778 - val_root_mean_squared_error: 1.2561\n",
      "Epoch 23/100\n",
      "3123/3125 [============================>.] - ETA: 0s - loss: 2.0205 - root_mean_squared_error: 1.4214"
     ]
    },
    {
     "name": "stderr",
     "output_type": "stream",
     "text": [
      "WARNING:absl:Found untraced functions such as _update_step_xla, lstm_cell_layer_call_fn, lstm_cell_layer_call_and_return_conditional_losses while saving (showing 3 of 3). These functions will not be directly callable after loading.\n"
     ]
    },
    {
     "name": "stdout",
     "output_type": "stream",
     "text": [
      "INFO:tensorflow:Assets written to: model1\\assets\n"
     ]
    },
    {
     "name": "stderr",
     "output_type": "stream",
     "text": [
      "INFO:tensorflow:Assets written to: model1\\assets\n"
     ]
    },
    {
     "name": "stdout",
     "output_type": "stream",
     "text": [
      "3125/3125 [==============================] - 26s 8ms/step - loss: 2.0208 - root_mean_squared_error: 1.4215 - val_loss: 1.5200 - val_root_mean_squared_error: 1.2329\n",
      "Epoch 24/100\n",
      "3124/3125 [============================>.] - ETA: 0s - loss: 1.9375 - root_mean_squared_error: 1.3919"
     ]
    },
    {
     "name": "stderr",
     "output_type": "stream",
     "text": [
      "WARNING:absl:Found untraced functions such as _update_step_xla, lstm_cell_layer_call_fn, lstm_cell_layer_call_and_return_conditional_losses while saving (showing 3 of 3). These functions will not be directly callable after loading.\n"
     ]
    },
    {
     "name": "stdout",
     "output_type": "stream",
     "text": [
      "INFO:tensorflow:Assets written to: model1\\assets\n"
     ]
    },
    {
     "name": "stderr",
     "output_type": "stream",
     "text": [
      "INFO:tensorflow:Assets written to: model1\\assets\n"
     ]
    },
    {
     "name": "stdout",
     "output_type": "stream",
     "text": [
      "3125/3125 [==============================] - 26s 8ms/step - loss: 1.9372 - root_mean_squared_error: 1.3918 - val_loss: 1.5129 - val_root_mean_squared_error: 1.2300\n",
      "Epoch 25/100\n",
      "3125/3125 [==============================] - 24s 8ms/step - loss: 1.8770 - root_mean_squared_error: 1.3700 - val_loss: 1.5584 - val_root_mean_squared_error: 1.2484\n",
      "Epoch 26/100\n",
      "3125/3125 [==============================] - 24s 8ms/step - loss: 1.8278 - root_mean_squared_error: 1.3520 - val_loss: 1.5526 - val_root_mean_squared_error: 1.2460\n",
      "Epoch 27/100\n",
      "3125/3125 [==============================] - ETA: 0s - loss: 1.8068 - root_mean_squared_error: 1.3442"
     ]
    },
    {
     "name": "stderr",
     "output_type": "stream",
     "text": [
      "WARNING:absl:Found untraced functions such as _update_step_xla, lstm_cell_layer_call_fn, lstm_cell_layer_call_and_return_conditional_losses while saving (showing 3 of 3). These functions will not be directly callable after loading.\n"
     ]
    },
    {
     "name": "stdout",
     "output_type": "stream",
     "text": [
      "INFO:tensorflow:Assets written to: model1\\assets\n"
     ]
    },
    {
     "name": "stderr",
     "output_type": "stream",
     "text": [
      "INFO:tensorflow:Assets written to: model1\\assets\n"
     ]
    },
    {
     "name": "stdout",
     "output_type": "stream",
     "text": [
      "3125/3125 [==============================] - 28s 9ms/step - loss: 1.8068 - root_mean_squared_error: 1.3442 - val_loss: 1.4397 - val_root_mean_squared_error: 1.1999\n",
      "Epoch 28/100\n",
      "3121/3125 [============================>.] - ETA: 0s - loss: 1.7596 - root_mean_squared_error: 1.3265"
     ]
    },
    {
     "name": "stderr",
     "output_type": "stream",
     "text": [
      "WARNING:absl:Found untraced functions such as _update_step_xla, lstm_cell_layer_call_fn, lstm_cell_layer_call_and_return_conditional_losses while saving (showing 3 of 3). These functions will not be directly callable after loading.\n"
     ]
    },
    {
     "name": "stdout",
     "output_type": "stream",
     "text": [
      "INFO:tensorflow:Assets written to: model1\\assets\n"
     ]
    },
    {
     "name": "stderr",
     "output_type": "stream",
     "text": [
      "INFO:tensorflow:Assets written to: model1\\assets\n"
     ]
    },
    {
     "name": "stdout",
     "output_type": "stream",
     "text": [
      "3125/3125 [==============================] - 27s 9ms/step - loss: 1.7604 - root_mean_squared_error: 1.3268 - val_loss: 1.3841 - val_root_mean_squared_error: 1.1765\n",
      "Epoch 29/100\n",
      "3119/3125 [============================>.] - ETA: 0s - loss: 1.7270 - root_mean_squared_error: 1.3142"
     ]
    },
    {
     "name": "stderr",
     "output_type": "stream",
     "text": [
      "WARNING:absl:Found untraced functions such as _update_step_xla, lstm_cell_layer_call_fn, lstm_cell_layer_call_and_return_conditional_losses while saving (showing 3 of 3). These functions will not be directly callable after loading.\n"
     ]
    },
    {
     "name": "stdout",
     "output_type": "stream",
     "text": [
      "INFO:tensorflow:Assets written to: model1\\assets\n"
     ]
    },
    {
     "name": "stderr",
     "output_type": "stream",
     "text": [
      "INFO:tensorflow:Assets written to: model1\\assets\n"
     ]
    },
    {
     "name": "stdout",
     "output_type": "stream",
     "text": [
      "3125/3125 [==============================] - 26s 8ms/step - loss: 1.7261 - root_mean_squared_error: 1.3138 - val_loss: 1.3376 - val_root_mean_squared_error: 1.1566\n",
      "Epoch 30/100\n",
      "3125/3125 [==============================] - 23s 7ms/step - loss: 1.7075 - root_mean_squared_error: 1.3067 - val_loss: 1.6897 - val_root_mean_squared_error: 1.2999\n",
      "Epoch 31/100\n",
      "3119/3125 [============================>.] - ETA: 0s - loss: 1.7066 - root_mean_squared_error: 1.3064"
     ]
    },
    {
     "name": "stderr",
     "output_type": "stream",
     "text": [
      "WARNING:absl:Found untraced functions such as _update_step_xla, lstm_cell_layer_call_fn, lstm_cell_layer_call_and_return_conditional_losses while saving (showing 3 of 3). These functions will not be directly callable after loading.\n"
     ]
    },
    {
     "name": "stdout",
     "output_type": "stream",
     "text": [
      "INFO:tensorflow:Assets written to: model1\\assets\n"
     ]
    },
    {
     "name": "stderr",
     "output_type": "stream",
     "text": [
      "INFO:tensorflow:Assets written to: model1\\assets\n"
     ]
    },
    {
     "name": "stdout",
     "output_type": "stream",
     "text": [
      "3125/3125 [==============================] - 28s 9ms/step - loss: 1.7061 - root_mean_squared_error: 1.3062 - val_loss: 1.2763 - val_root_mean_squared_error: 1.1297\n",
      "Epoch 32/100\n",
      "3124/3125 [============================>.] - ETA: 0s - loss: 1.6733 - root_mean_squared_error: 1.2936"
     ]
    },
    {
     "name": "stderr",
     "output_type": "stream",
     "text": [
      "WARNING:absl:Found untraced functions such as _update_step_xla, lstm_cell_layer_call_fn, lstm_cell_layer_call_and_return_conditional_losses while saving (showing 3 of 3). These functions will not be directly callable after loading.\n"
     ]
    },
    {
     "name": "stdout",
     "output_type": "stream",
     "text": [
      "INFO:tensorflow:Assets written to: model1\\assets\n"
     ]
    },
    {
     "name": "stderr",
     "output_type": "stream",
     "text": [
      "INFO:tensorflow:Assets written to: model1\\assets\n"
     ]
    },
    {
     "name": "stdout",
     "output_type": "stream",
     "text": [
      "3125/3125 [==============================] - 28s 9ms/step - loss: 1.6732 - root_mean_squared_error: 1.2935 - val_loss: 1.2646 - val_root_mean_squared_error: 1.1245\n",
      "Epoch 33/100\n",
      "3125/3125 [==============================] - 24s 8ms/step - loss: 1.6493 - root_mean_squared_error: 1.2843 - val_loss: 1.3517 - val_root_mean_squared_error: 1.1626\n",
      "Epoch 34/100\n",
      "3125/3125 [==============================] - 24s 8ms/step - loss: 1.6602 - root_mean_squared_error: 1.2885 - val_loss: 1.3458 - val_root_mean_squared_error: 1.1601\n",
      "Epoch 35/100\n",
      "3125/3125 [==============================] - 24s 8ms/step - loss: 1.6522 - root_mean_squared_error: 1.2854 - val_loss: 1.4273 - val_root_mean_squared_error: 1.1947\n",
      "Epoch 36/100\n",
      "3125/3125 [==============================] - 24s 8ms/step - loss: 1.6497 - root_mean_squared_error: 1.2844 - val_loss: 1.6362 - val_root_mean_squared_error: 1.2791\n",
      "Epoch 37/100\n",
      "3125/3125 [==============================] - 25s 8ms/step - loss: 1.6215 - root_mean_squared_error: 1.2734 - val_loss: 1.5256 - val_root_mean_squared_error: 1.2351\n",
      "Epoch 38/100\n",
      "3125/3125 [==============================] - ETA: 0s - loss: 1.6054 - root_mean_squared_error: 1.2671"
     ]
    },
    {
     "name": "stderr",
     "output_type": "stream",
     "text": [
      "WARNING:absl:Found untraced functions such as _update_step_xla, lstm_cell_layer_call_fn, lstm_cell_layer_call_and_return_conditional_losses while saving (showing 3 of 3). These functions will not be directly callable after loading.\n"
     ]
    },
    {
     "name": "stdout",
     "output_type": "stream",
     "text": [
      "INFO:tensorflow:Assets written to: model1\\assets\n"
     ]
    },
    {
     "name": "stderr",
     "output_type": "stream",
     "text": [
      "INFO:tensorflow:Assets written to: model1\\assets\n"
     ]
    },
    {
     "name": "stdout",
     "output_type": "stream",
     "text": [
      "3125/3125 [==============================] - 29s 9ms/step - loss: 1.6054 - root_mean_squared_error: 1.2671 - val_loss: 1.2440 - val_root_mean_squared_error: 1.1154\n",
      "Epoch 39/100\n",
      "3119/3125 [============================>.] - ETA: 0s - loss: 1.5989 - root_mean_squared_error: 1.2645"
     ]
    },
    {
     "name": "stderr",
     "output_type": "stream",
     "text": [
      "WARNING:absl:Found untraced functions such as _update_step_xla, lstm_cell_layer_call_fn, lstm_cell_layer_call_and_return_conditional_losses while saving (showing 3 of 3). These functions will not be directly callable after loading.\n"
     ]
    },
    {
     "name": "stdout",
     "output_type": "stream",
     "text": [
      "INFO:tensorflow:Assets written to: model1\\assets\n"
     ]
    },
    {
     "name": "stderr",
     "output_type": "stream",
     "text": [
      "INFO:tensorflow:Assets written to: model1\\assets\n"
     ]
    },
    {
     "name": "stdout",
     "output_type": "stream",
     "text": [
      "3125/3125 [==============================] - 29s 9ms/step - loss: 1.5983 - root_mean_squared_error: 1.2642 - val_loss: 1.2162 - val_root_mean_squared_error: 1.1028\n",
      "Epoch 40/100\n",
      "3125/3125 [==============================] - 24s 8ms/step - loss: 1.6158 - root_mean_squared_error: 1.2711 - val_loss: 1.2357 - val_root_mean_squared_error: 1.1116\n",
      "Epoch 41/100\n",
      "3125/3125 [==============================] - 24s 8ms/step - loss: 1.5850 - root_mean_squared_error: 1.2590 - val_loss: 1.2665 - val_root_mean_squared_error: 1.1254\n",
      "Epoch 42/100\n",
      "3125/3125 [==============================] - 24s 8ms/step - loss: 1.5897 - root_mean_squared_error: 1.2608 - val_loss: 1.4392 - val_root_mean_squared_error: 1.1997\n",
      "Epoch 43/100\n",
      "3119/3125 [============================>.] - ETA: 0s - loss: 1.5727 - root_mean_squared_error: 1.2541"
     ]
    },
    {
     "name": "stderr",
     "output_type": "stream",
     "text": [
      "WARNING:absl:Found untraced functions such as _update_step_xla, lstm_cell_layer_call_fn, lstm_cell_layer_call_and_return_conditional_losses while saving (showing 3 of 3). These functions will not be directly callable after loading.\n"
     ]
    },
    {
     "name": "stdout",
     "output_type": "stream",
     "text": [
      "INFO:tensorflow:Assets written to: model1\\assets\n"
     ]
    },
    {
     "name": "stderr",
     "output_type": "stream",
     "text": [
      "INFO:tensorflow:Assets written to: model1\\assets\n"
     ]
    },
    {
     "name": "stdout",
     "output_type": "stream",
     "text": [
      "3125/3125 [==============================] - 30s 9ms/step - loss: 1.5724 - root_mean_squared_error: 1.2540 - val_loss: 1.1966 - val_root_mean_squared_error: 1.0939\n",
      "Epoch 44/100\n",
      "3125/3125 [==============================] - 25s 8ms/step - loss: 1.5723 - root_mean_squared_error: 1.2539 - val_loss: 1.2063 - val_root_mean_squared_error: 1.0983\n",
      "Epoch 45/100\n",
      "3123/3125 [============================>.] - ETA: 0s - loss: 1.5662 - root_mean_squared_error: 1.2515"
     ]
    },
    {
     "name": "stderr",
     "output_type": "stream",
     "text": [
      "WARNING:absl:Found untraced functions such as _update_step_xla, lstm_cell_layer_call_fn, lstm_cell_layer_call_and_return_conditional_losses while saving (showing 3 of 3). These functions will not be directly callable after loading.\n"
     ]
    },
    {
     "name": "stdout",
     "output_type": "stream",
     "text": [
      "INFO:tensorflow:Assets written to: model1\\assets\n"
     ]
    },
    {
     "name": "stderr",
     "output_type": "stream",
     "text": [
      "INFO:tensorflow:Assets written to: model1\\assets\n"
     ]
    },
    {
     "name": "stdout",
     "output_type": "stream",
     "text": [
      "3125/3125 [==============================] - 30s 9ms/step - loss: 1.5659 - root_mean_squared_error: 1.2514 - val_loss: 1.1807 - val_root_mean_squared_error: 1.0866\n",
      "Epoch 46/100\n",
      "3125/3125 [==============================] - 28s 9ms/step - loss: 1.5507 - root_mean_squared_error: 1.2453 - val_loss: 1.2482 - val_root_mean_squared_error: 1.1172\n",
      "Epoch 47/100\n",
      "3125/3125 [==============================] - 26s 8ms/step - loss: 1.5603 - root_mean_squared_error: 1.2491 - val_loss: 1.2075 - val_root_mean_squared_error: 1.0989\n",
      "Epoch 48/100\n",
      "3125/3125 [==============================] - 25s 8ms/step - loss: 1.5538 - root_mean_squared_error: 1.2465 - val_loss: 1.2255 - val_root_mean_squared_error: 1.1070\n",
      "Epoch 49/100\n",
      "3123/3125 [============================>.] - ETA: 0s - loss: 1.5410 - root_mean_squared_error: 1.2414"
     ]
    },
    {
     "name": "stderr",
     "output_type": "stream",
     "text": [
      "WARNING:absl:Found untraced functions such as _update_step_xla, lstm_cell_layer_call_fn, lstm_cell_layer_call_and_return_conditional_losses while saving (showing 3 of 3). These functions will not be directly callable after loading.\n"
     ]
    },
    {
     "name": "stdout",
     "output_type": "stream",
     "text": [
      "INFO:tensorflow:Assets written to: model1\\assets\n"
     ]
    },
    {
     "name": "stderr",
     "output_type": "stream",
     "text": [
      "INFO:tensorflow:Assets written to: model1\\assets\n"
     ]
    },
    {
     "name": "stdout",
     "output_type": "stream",
     "text": [
      "3125/3125 [==============================] - 30s 10ms/step - loss: 1.5413 - root_mean_squared_error: 1.2415 - val_loss: 1.1697 - val_root_mean_squared_error: 1.0815\n",
      "Epoch 50/100\n",
      "3125/3125 [==============================] - 26s 8ms/step - loss: 1.5435 - root_mean_squared_error: 1.2424 - val_loss: 1.5483 - val_root_mean_squared_error: 1.2443\n",
      "Epoch 51/100\n",
      "3125/3125 [==============================] - 25s 8ms/step - loss: 1.5402 - root_mean_squared_error: 1.2411 - val_loss: 1.2837 - val_root_mean_squared_error: 1.1330\n",
      "Epoch 52/100\n",
      "3119/3125 [============================>.] - ETA: 0s - loss: 1.5395 - root_mean_squared_error: 1.2407"
     ]
    },
    {
     "name": "stderr",
     "output_type": "stream",
     "text": [
      "WARNING:absl:Found untraced functions such as _update_step_xla, lstm_cell_layer_call_fn, lstm_cell_layer_call_and_return_conditional_losses while saving (showing 3 of 3). These functions will not be directly callable after loading.\n"
     ]
    },
    {
     "name": "stdout",
     "output_type": "stream",
     "text": [
      "INFO:tensorflow:Assets written to: model1\\assets\n"
     ]
    },
    {
     "name": "stderr",
     "output_type": "stream",
     "text": [
      "INFO:tensorflow:Assets written to: model1\\assets\n"
     ]
    },
    {
     "name": "stdout",
     "output_type": "stream",
     "text": [
      "3125/3125 [==============================] - 30s 9ms/step - loss: 1.5396 - root_mean_squared_error: 1.2408 - val_loss: 1.1647 - val_root_mean_squared_error: 1.0792\n",
      "Epoch 53/100\n",
      "3125/3125 [==============================] - 25s 8ms/step - loss: 1.5370 - root_mean_squared_error: 1.2398 - val_loss: 1.3707 - val_root_mean_squared_error: 1.1708\n",
      "Epoch 54/100\n",
      "3125/3125 [==============================] - 25s 8ms/step - loss: 1.5292 - root_mean_squared_error: 1.2366 - val_loss: 1.3050 - val_root_mean_squared_error: 1.1424\n",
      "Epoch 55/100\n",
      "3125/3125 [==============================] - 25s 8ms/step - loss: 1.5304 - root_mean_squared_error: 1.2371 - val_loss: 1.7717 - val_root_mean_squared_error: 1.3310\n",
      "Epoch 56/100\n",
      "3125/3125 [==============================] - 25s 8ms/step - loss: 1.5302 - root_mean_squared_error: 1.2370 - val_loss: 1.2183 - val_root_mean_squared_error: 1.1038\n",
      "Epoch 57/100\n",
      "3125/3125 [==============================] - 25s 8ms/step - loss: 1.5403 - root_mean_squared_error: 1.2411 - val_loss: 1.2998 - val_root_mean_squared_error: 1.1401\n",
      "Epoch 58/100\n",
      "3125/3125 [==============================] - 429s 137ms/step - loss: 1.5212 - root_mean_squared_error: 1.2334 - val_loss: 1.1759 - val_root_mean_squared_error: 1.0844\n",
      "Epoch 59/100\n",
      "3125/3125 [==============================] - 21s 7ms/step - loss: 1.5309 - root_mean_squared_error: 1.2373 - val_loss: 1.3454 - val_root_mean_squared_error: 1.1599\n",
      "Epoch 60/100\n",
      "3125/3125 [==============================] - 22s 7ms/step - loss: 1.5266 - root_mean_squared_error: 1.2355 - val_loss: 1.2471 - val_root_mean_squared_error: 1.1167\n",
      "Epoch 61/100\n",
      "3125/3125 [==============================] - 21s 7ms/step - loss: 1.5172 - root_mean_squared_error: 1.2317 - val_loss: 1.4390 - val_root_mean_squared_error: 1.1996\n",
      "Epoch 62/100\n",
      "3125/3125 [==============================] - 21s 7ms/step - loss: 1.5110 - root_mean_squared_error: 1.2292 - val_loss: 1.4819 - val_root_mean_squared_error: 1.2173\n",
      "Epoch 63/100\n",
      "3125/3125 [==============================] - 21s 7ms/step - loss: 1.5092 - root_mean_squared_error: 1.2285 - val_loss: 1.1688 - val_root_mean_squared_error: 1.0811\n",
      "Epoch 64/100\n",
      "3123/3125 [============================>.] - ETA: 0s - loss: 1.5013 - root_mean_squared_error: 1.2253"
     ]
    },
    {
     "name": "stderr",
     "output_type": "stream",
     "text": [
      "WARNING:absl:Found untraced functions such as _update_step_xla, lstm_cell_layer_call_fn, lstm_cell_layer_call_and_return_conditional_losses while saving (showing 3 of 3). These functions will not be directly callable after loading.\n"
     ]
    },
    {
     "name": "stdout",
     "output_type": "stream",
     "text": [
      "INFO:tensorflow:Assets written to: model1\\assets\n"
     ]
    },
    {
     "name": "stderr",
     "output_type": "stream",
     "text": [
      "INFO:tensorflow:Assets written to: model1\\assets\n"
     ]
    },
    {
     "name": "stdout",
     "output_type": "stream",
     "text": [
      "3125/3125 [==============================] - 25s 8ms/step - loss: 1.5013 - root_mean_squared_error: 1.2253 - val_loss: 1.1400 - val_root_mean_squared_error: 1.0677\n",
      "Epoch 65/100\n",
      "3125/3125 [==============================] - 21s 7ms/step - loss: 1.5162 - root_mean_squared_error: 1.2313 - val_loss: 1.7298 - val_root_mean_squared_error: 1.3152\n",
      "Epoch 66/100\n",
      "3125/3125 [==============================] - 20s 6ms/step - loss: 1.5150 - root_mean_squared_error: 1.2309 - val_loss: 1.1632 - val_root_mean_squared_error: 1.0785\n",
      "Epoch 67/100\n",
      "3125/3125 [==============================] - 22s 7ms/step - loss: 1.5152 - root_mean_squared_error: 1.2309 - val_loss: 1.3379 - val_root_mean_squared_error: 1.1567\n",
      "Epoch 68/100\n",
      "3125/3125 [==============================] - 1028s 329ms/step - loss: 1.5023 - root_mean_squared_error: 1.2257 - val_loss: 1.3050 - val_root_mean_squared_error: 1.1424\n",
      "Epoch 69/100\n",
      "3125/3125 [==============================] - 36s 12ms/step - loss: 1.5155 - root_mean_squared_error: 1.2310 - val_loss: 1.1721 - val_root_mean_squared_error: 1.0826\n",
      "Epoch 70/100\n",
      "3125/3125 [==============================] - 35s 11ms/step - loss: 1.5122 - root_mean_squared_error: 1.2297 - val_loss: 1.2707 - val_root_mean_squared_error: 1.1273\n",
      "Epoch 71/100\n",
      "3125/3125 [==============================] - 35s 11ms/step - loss: 1.5098 - root_mean_squared_error: 1.2287 - val_loss: 1.1538 - val_root_mean_squared_error: 1.0742\n",
      "Epoch 72/100\n",
      "3125/3125 [==============================] - 36s 11ms/step - loss: 1.5034 - root_mean_squared_error: 1.2262 - val_loss: 1.5239 - val_root_mean_squared_error: 1.2345\n",
      "Epoch 73/100\n",
      "3125/3125 [==============================] - 35s 11ms/step - loss: 1.4920 - root_mean_squared_error: 1.2215 - val_loss: 1.1443 - val_root_mean_squared_error: 1.0697\n",
      "Epoch 74/100\n",
      "3123/3125 [============================>.] - ETA: 0s - loss: 1.4960 - root_mean_squared_error: 1.2231"
     ]
    },
    {
     "name": "stderr",
     "output_type": "stream",
     "text": [
      "WARNING:absl:Found untraced functions such as _update_step_xla, lstm_cell_layer_call_fn, lstm_cell_layer_call_and_return_conditional_losses while saving (showing 3 of 3). These functions will not be directly callable after loading.\n"
     ]
    },
    {
     "name": "stdout",
     "output_type": "stream",
     "text": [
      "INFO:tensorflow:Assets written to: model1\\assets\n"
     ]
    },
    {
     "name": "stderr",
     "output_type": "stream",
     "text": [
      "INFO:tensorflow:Assets written to: model1\\assets\n"
     ]
    },
    {
     "name": "stdout",
     "output_type": "stream",
     "text": [
      "3125/3125 [==============================] - 28s 9ms/step - loss: 1.4959 - root_mean_squared_error: 1.2231 - val_loss: 1.1369 - val_root_mean_squared_error: 1.0663\n",
      "Epoch 75/100\n",
      "3125/3125 [==============================] - 3245s 1s/step - loss: 1.5077 - root_mean_squared_error: 1.2279 - val_loss: 1.1505 - val_root_mean_squared_error: 1.0726\n",
      "Epoch 76/100\n",
      "3125/3125 [==============================] - 36s 11ms/step - loss: 1.4971 - root_mean_squared_error: 1.2236 - val_loss: 1.1379 - val_root_mean_squared_error: 1.0667\n",
      "Epoch 77/100\n",
      "3122/3125 [============================>.] - ETA: 0s - loss: 1.4925 - root_mean_squared_error: 1.2217"
     ]
    },
    {
     "name": "stderr",
     "output_type": "stream",
     "text": [
      "WARNING:absl:Found untraced functions such as _update_step_xla, lstm_cell_layer_call_fn, lstm_cell_layer_call_and_return_conditional_losses while saving (showing 3 of 3). These functions will not be directly callable after loading.\n"
     ]
    },
    {
     "name": "stdout",
     "output_type": "stream",
     "text": [
      "INFO:tensorflow:Assets written to: model1\\assets\n"
     ]
    },
    {
     "name": "stderr",
     "output_type": "stream",
     "text": [
      "INFO:tensorflow:Assets written to: model1\\assets\n"
     ]
    },
    {
     "name": "stdout",
     "output_type": "stream",
     "text": [
      "3125/3125 [==============================] - 42s 14ms/step - loss: 1.4923 - root_mean_squared_error: 1.2216 - val_loss: 1.1322 - val_root_mean_squared_error: 1.0640\n",
      "Epoch 78/100\n",
      "3125/3125 [==============================] - 43s 14ms/step - loss: 1.5045 - root_mean_squared_error: 1.2266 - val_loss: 1.6834 - val_root_mean_squared_error: 1.2975\n",
      "Epoch 79/100\n",
      "3125/3125 [==============================] - 39s 13ms/step - loss: 1.4993 - root_mean_squared_error: 1.2244 - val_loss: 1.2650 - val_root_mean_squared_error: 1.1247\n",
      "Epoch 80/100\n",
      "3125/3125 [==============================] - 35s 11ms/step - loss: 1.4897 - root_mean_squared_error: 1.2206 - val_loss: 1.1574 - val_root_mean_squared_error: 1.0758\n",
      "Epoch 81/100\n",
      "3123/3125 [============================>.] - ETA: 0s - loss: 1.4857 - root_mean_squared_error: 1.2189"
     ]
    },
    {
     "name": "stderr",
     "output_type": "stream",
     "text": [
      "WARNING:absl:Found untraced functions such as _update_step_xla, lstm_cell_layer_call_fn, lstm_cell_layer_call_and_return_conditional_losses while saving (showing 3 of 3). These functions will not be directly callable after loading.\n"
     ]
    },
    {
     "name": "stdout",
     "output_type": "stream",
     "text": [
      "INFO:tensorflow:Assets written to: model1\\assets\n"
     ]
    },
    {
     "name": "stderr",
     "output_type": "stream",
     "text": [
      "INFO:tensorflow:Assets written to: model1\\assets\n"
     ]
    },
    {
     "name": "stdout",
     "output_type": "stream",
     "text": [
      "3125/3125 [==============================] - 44s 14ms/step - loss: 1.4858 - root_mean_squared_error: 1.2189 - val_loss: 1.1250 - val_root_mean_squared_error: 1.0607\n",
      "Epoch 82/100\n",
      "3125/3125 [==============================] - 36s 12ms/step - loss: 1.4849 - root_mean_squared_error: 1.2186 - val_loss: 1.1849 - val_root_mean_squared_error: 1.0885\n",
      "Epoch 83/100\n",
      "3125/3125 [==============================] - 36s 12ms/step - loss: 1.5018 - root_mean_squared_error: 1.2255 - val_loss: 1.2359 - val_root_mean_squared_error: 1.1117\n",
      "Epoch 84/100\n",
      "3125/3125 [==============================] - 37s 12ms/step - loss: 1.4875 - root_mean_squared_error: 1.2196 - val_loss: 1.2472 - val_root_mean_squared_error: 1.1168\n",
      "Epoch 85/100\n",
      "3125/3125 [==============================] - 37s 12ms/step - loss: 1.4943 - root_mean_squared_error: 1.2224 - val_loss: 1.2257 - val_root_mean_squared_error: 1.1071\n",
      "Epoch 86/100\n",
      "3125/3125 [==============================] - 37s 12ms/step - loss: 1.4846 - root_mean_squared_error: 1.2184 - val_loss: 1.1360 - val_root_mean_squared_error: 1.0658\n",
      "Epoch 87/100\n",
      "3125/3125 [==============================] - ETA: 0s - loss: 1.4899 - root_mean_squared_error: 1.2206"
     ]
    },
    {
     "name": "stderr",
     "output_type": "stream",
     "text": [
      "WARNING:absl:Found untraced functions such as _update_step_xla, lstm_cell_layer_call_fn, lstm_cell_layer_call_and_return_conditional_losses while saving (showing 3 of 3). These functions will not be directly callable after loading.\n"
     ]
    },
    {
     "name": "stdout",
     "output_type": "stream",
     "text": [
      "INFO:tensorflow:Assets written to: model1\\assets\n"
     ]
    },
    {
     "name": "stderr",
     "output_type": "stream",
     "text": [
      "INFO:tensorflow:Assets written to: model1\\assets\n"
     ]
    },
    {
     "name": "stdout",
     "output_type": "stream",
     "text": [
      "3125/3125 [==============================] - 44s 14ms/step - loss: 1.4899 - root_mean_squared_error: 1.2206 - val_loss: 1.1211 - val_root_mean_squared_error: 1.0588\n",
      "Epoch 88/100\n",
      "3125/3125 [==============================] - 36s 12ms/step - loss: 1.4903 - root_mean_squared_error: 1.2208 - val_loss: 1.1296 - val_root_mean_squared_error: 1.0628\n",
      "Epoch 89/100\n",
      "3125/3125 [==============================] - 36s 12ms/step - loss: 1.4857 - root_mean_squared_error: 1.2189 - val_loss: 1.2736 - val_root_mean_squared_error: 1.1286\n",
      "Epoch 90/100\n",
      "3125/3125 [==============================] - 36s 12ms/step - loss: 1.4986 - root_mean_squared_error: 1.2242 - val_loss: 1.1302 - val_root_mean_squared_error: 1.0631\n",
      "Epoch 91/100\n",
      "3125/3125 [==============================] - 36s 11ms/step - loss: 1.4896 - root_mean_squared_error: 1.2205 - val_loss: 1.5571 - val_root_mean_squared_error: 1.2478\n",
      "Epoch 92/100\n",
      "3125/3125 [==============================] - 36s 12ms/step - loss: 1.4875 - root_mean_squared_error: 1.2196 - val_loss: 1.1225 - val_root_mean_squared_error: 1.0595\n",
      "Epoch 93/100\n",
      "3125/3125 [==============================] - 36s 11ms/step - loss: 1.4879 - root_mean_squared_error: 1.2198 - val_loss: 1.2715 - val_root_mean_squared_error: 1.1276\n",
      "Epoch 94/100\n",
      "3125/3125 [==============================] - 36s 11ms/step - loss: 1.4872 - root_mean_squared_error: 1.2195 - val_loss: 1.1211 - val_root_mean_squared_error: 1.0588\n",
      "Epoch 95/100\n",
      "3123/3125 [============================>.] - ETA: 0s - loss: 1.4769 - root_mean_squared_error: 1.2153"
     ]
    },
    {
     "name": "stderr",
     "output_type": "stream",
     "text": [
      "WARNING:absl:Found untraced functions such as _update_step_xla, lstm_cell_layer_call_fn, lstm_cell_layer_call_and_return_conditional_losses while saving (showing 3 of 3). These functions will not be directly callable after loading.\n"
     ]
    },
    {
     "name": "stdout",
     "output_type": "stream",
     "text": [
      "INFO:tensorflow:Assets written to: model1\\assets\n"
     ]
    },
    {
     "name": "stderr",
     "output_type": "stream",
     "text": [
      "INFO:tensorflow:Assets written to: model1\\assets\n"
     ]
    },
    {
     "name": "stdout",
     "output_type": "stream",
     "text": [
      "3125/3125 [==============================] - 43s 14ms/step - loss: 1.4775 - root_mean_squared_error: 1.2155 - val_loss: 1.1187 - val_root_mean_squared_error: 1.0577\n",
      "Epoch 96/100\n",
      "3125/3125 [==============================] - 35s 11ms/step - loss: 1.4910 - root_mean_squared_error: 1.2211 - val_loss: 1.1269 - val_root_mean_squared_error: 1.0616\n",
      "Epoch 97/100\n",
      "3125/3125 [==============================] - 39s 12ms/step - loss: 1.4775 - root_mean_squared_error: 1.2155 - val_loss: 1.1975 - val_root_mean_squared_error: 1.0943\n",
      "Epoch 98/100\n",
      "3125/3125 [==============================] - 34s 11ms/step - loss: 1.4880 - root_mean_squared_error: 1.2199 - val_loss: 1.1359 - val_root_mean_squared_error: 1.0658\n",
      "Epoch 99/100\n",
      "3121/3125 [============================>.] - ETA: 0s - loss: 1.4715 - root_mean_squared_error: 1.2131"
     ]
    },
    {
     "name": "stderr",
     "output_type": "stream",
     "text": [
      "WARNING:absl:Found untraced functions such as _update_step_xla, lstm_cell_layer_call_fn, lstm_cell_layer_call_and_return_conditional_losses while saving (showing 3 of 3). These functions will not be directly callable after loading.\n"
     ]
    },
    {
     "name": "stdout",
     "output_type": "stream",
     "text": [
      "INFO:tensorflow:Assets written to: model1\\assets\n"
     ]
    },
    {
     "name": "stderr",
     "output_type": "stream",
     "text": [
      "INFO:tensorflow:Assets written to: model1\\assets\n"
     ]
    },
    {
     "name": "stdout",
     "output_type": "stream",
     "text": [
      "3125/3125 [==============================] - 46s 15ms/step - loss: 1.4716 - root_mean_squared_error: 1.2131 - val_loss: 1.1171 - val_root_mean_squared_error: 1.0569\n",
      "Epoch 100/100\n",
      "3125/3125 [==============================] - 34s 11ms/step - loss: 1.4897 - root_mean_squared_error: 1.2205 - val_loss: 1.3907 - val_root_mean_squared_error: 1.1793\n"
     ]
    },
    {
     "data": {
      "text/plain": [
       "<keras.callbacks.History at 0x28d78586ec0>"
      ]
     },
     "execution_count": 14,
     "metadata": {},
     "output_type": "execute_result"
    }
   ],
   "source": [
    "model1.fit(X_train, y_train, validation_data=(X_val, y_val), epochs=100,callbacks=[cp])"
   ]
  },
  {
   "cell_type": "code",
   "execution_count": 15,
   "id": "48d48845",
   "metadata": {},
   "outputs": [],
   "source": [
    "# from tensorflow.keras.models import load_model\n",
    "# model1=load_model('model1/')"
   ]
  },
  {
   "cell_type": "code",
   "execution_count": 16,
   "id": "463f469f",
   "metadata": {},
   "outputs": [
    {
     "name": "stdout",
     "output_type": "stream",
     "text": [
      "3125/3125 [==============================] - 18s 5ms/step\n"
     ]
    },
    {
     "data": {
      "text/html": [
       "<div>\n",
       "<style scoped>\n",
       "    .dataframe tbody tr th:only-of-type {\n",
       "        vertical-align: middle;\n",
       "    }\n",
       "\n",
       "    .dataframe tbody tr th {\n",
       "        vertical-align: top;\n",
       "    }\n",
       "\n",
       "    .dataframe thead th {\n",
       "        text-align: right;\n",
       "    }\n",
       "</style>\n",
       "<table border=\"1\" class=\"dataframe\">\n",
       "  <thead>\n",
       "    <tr style=\"text-align: right;\">\n",
       "      <th></th>\n",
       "      <th>Train Predictions</th>\n",
       "      <th>Actuals</th>\n",
       "    </tr>\n",
       "  </thead>\n",
       "  <tbody>\n",
       "    <tr>\n",
       "      <th>0</th>\n",
       "      <td>300.312592</td>\n",
       "      <td>295.312630</td>\n",
       "    </tr>\n",
       "    <tr>\n",
       "      <th>1</th>\n",
       "      <td>295.047455</td>\n",
       "      <td>294.796146</td>\n",
       "    </tr>\n",
       "    <tr>\n",
       "      <th>2</th>\n",
       "      <td>294.055573</td>\n",
       "      <td>292.725731</td>\n",
       "    </tr>\n",
       "    <tr>\n",
       "      <th>3</th>\n",
       "      <td>292.330139</td>\n",
       "      <td>292.691398</td>\n",
       "    </tr>\n",
       "    <tr>\n",
       "      <th>4</th>\n",
       "      <td>292.609131</td>\n",
       "      <td>290.337365</td>\n",
       "    </tr>\n",
       "    <tr>\n",
       "      <th>...</th>\n",
       "      <td>...</td>\n",
       "      <td>...</td>\n",
       "    </tr>\n",
       "    <tr>\n",
       "      <th>99995</th>\n",
       "      <td>300.714508</td>\n",
       "      <td>301.070413</td>\n",
       "    </tr>\n",
       "    <tr>\n",
       "      <th>99996</th>\n",
       "      <td>300.996185</td>\n",
       "      <td>300.684479</td>\n",
       "    </tr>\n",
       "    <tr>\n",
       "      <th>99997</th>\n",
       "      <td>300.670288</td>\n",
       "      <td>300.808103</td>\n",
       "    </tr>\n",
       "    <tr>\n",
       "      <th>99998</th>\n",
       "      <td>300.800140</td>\n",
       "      <td>302.463514</td>\n",
       "    </tr>\n",
       "    <tr>\n",
       "      <th>99999</th>\n",
       "      <td>302.687195</td>\n",
       "      <td>302.611031</td>\n",
       "    </tr>\n",
       "  </tbody>\n",
       "</table>\n",
       "<p>100000 rows × 2 columns</p>\n",
       "</div>"
      ],
      "text/plain": [
       "       Train Predictions     Actuals\n",
       "0             300.312592  295.312630\n",
       "1             295.047455  294.796146\n",
       "2             294.055573  292.725731\n",
       "3             292.330139  292.691398\n",
       "4             292.609131  290.337365\n",
       "...                  ...         ...\n",
       "99995         300.714508  301.070413\n",
       "99996         300.996185  300.684479\n",
       "99997         300.670288  300.808103\n",
       "99998         300.800140  302.463514\n",
       "99999         302.687195  302.611031\n",
       "\n",
       "[100000 rows x 2 columns]"
      ]
     },
     "execution_count": 16,
     "metadata": {},
     "output_type": "execute_result"
    }
   ],
   "source": [
    "train_predictions=model1.predict(X_train).flatten()\n",
    "train_results=pd.DataFrame(data={'Train Predictions': train_predictions, 'Actuals': y_train})\n",
    "train_results"
   ]
  },
  {
   "cell_type": "code",
   "execution_count": 17,
   "id": "8179f26a",
   "metadata": {},
   "outputs": [
    {
     "data": {
      "text/plain": [
       "[<matplotlib.lines.Line2D at 0x28d7f93e8f0>]"
      ]
     },
     "execution_count": 17,
     "metadata": {},
     "output_type": "execute_result"
    },
    {
     "data": {
      "image/png": "[encoded data removed]",
      "text/plain": [
       "<Figure size 432x288 with 1 Axes>"
      ]
     },
     "metadata": {
      "needs_background": "light"
     },
     "output_type": "display_data"
    }
   ],
   "source": [
    "import matplotlib.pyplot as plt\n",
    "plt.plot(train_results['Train Predictions'][:200])\n",
    "plt.plot(train_results['Actuals'][:200])"
   ]
  },
  {
   "cell_type": "code",
   "execution_count": 18,
   "id": "df766e59",
   "metadata": {},
   "outputs": [
    {
     "name": "stdout",
     "output_type": "stream",
     "text": [
      "313/313 [==============================] - 2s 5ms/step\n"
     ]
    },
    {
     "data": {
      "text/html": [
       "<div>\n",
       "<style scoped>\n",
       "    .dataframe tbody tr th:only-of-type {\n",
       "        vertical-align: middle;\n",
       "    }\n",
       "\n",
       "    .dataframe tbody tr th {\n",
       "        vertical-align: top;\n",
       "    }\n",
       "\n",
       "    .dataframe thead th {\n",
       "        text-align: right;\n",
       "    }\n",
       "</style>\n",
       "<table border=\"1\" class=\"dataframe\">\n",
       "  <thead>\n",
       "    <tr style=\"text-align: right;\">\n",
       "      <th></th>\n",
       "      <th>Val Predictions</th>\n",
       "      <th>Actuals</th>\n",
       "    </tr>\n",
       "  </thead>\n",
       "  <tbody>\n",
       "    <tr>\n",
       "      <th>0</th>\n",
       "      <td>302.884369</td>\n",
       "      <td>304.740678</td>\n",
       "    </tr>\n",
       "    <tr>\n",
       "      <th>1</th>\n",
       "      <td>304.967133</td>\n",
       "      <td>304.905336</td>\n",
       "    </tr>\n",
       "    <tr>\n",
       "      <th>2</th>\n",
       "      <td>305.090851</td>\n",
       "      <td>304.895467</td>\n",
       "    </tr>\n",
       "    <tr>\n",
       "      <th>3</th>\n",
       "      <td>304.803894</td>\n",
       "      <td>306.302592</td>\n",
       "    </tr>\n",
       "    <tr>\n",
       "      <th>4</th>\n",
       "      <td>306.211487</td>\n",
       "      <td>307.674916</td>\n",
       "    </tr>\n",
       "    <tr>\n",
       "      <th>...</th>\n",
       "      <td>...</td>\n",
       "      <td>...</td>\n",
       "    </tr>\n",
       "    <tr>\n",
       "      <th>9995</th>\n",
       "      <td>304.908295</td>\n",
       "      <td>305.049575</td>\n",
       "    </tr>\n",
       "    <tr>\n",
       "      <th>9996</th>\n",
       "      <td>304.720032</td>\n",
       "      <td>303.979461</td>\n",
       "    </tr>\n",
       "    <tr>\n",
       "      <th>9997</th>\n",
       "      <td>303.565582</td>\n",
       "      <td>303.064459</td>\n",
       "    </tr>\n",
       "    <tr>\n",
       "      <th>9998</th>\n",
       "      <td>302.584442</td>\n",
       "      <td>303.085174</td>\n",
       "    </tr>\n",
       "    <tr>\n",
       "      <th>9999</th>\n",
       "      <td>302.740875</td>\n",
       "      <td>302.396017</td>\n",
       "    </tr>\n",
       "  </tbody>\n",
       "</table>\n",
       "<p>10000 rows × 2 columns</p>\n",
       "</div>"
      ],
      "text/plain": [
       "      Val Predictions     Actuals\n",
       "0          302.884369  304.740678\n",
       "1          304.967133  304.905336\n",
       "2          305.090851  304.895467\n",
       "3          304.803894  306.302592\n",
       "4          306.211487  307.674916\n",
       "...               ...         ...\n",
       "9995       304.908295  305.049575\n",
       "9996       304.720032  303.979461\n",
       "9997       303.565582  303.064459\n",
       "9998       302.584442  303.085174\n",
       "9999       302.740875  302.396017\n",
       "\n",
       "[10000 rows x 2 columns]"
      ]
     },
     "execution_count": 18,
     "metadata": {},
     "output_type": "execute_result"
    }
   ],
   "source": [
    "val_predictions=model1.predict(X_val).flatten()\n",
    "val_results=pd.DataFrame(data={'Val Predictions': val_predictions, 'Actuals': y_val})\n",
    "val_results"
   ]
  },
  {
   "cell_type": "code",
   "execution_count": 19,
   "id": "091b315c",
   "metadata": {},
   "outputs": [
    {
     "data": {
      "text/plain": [
       "[<matplotlib.lines.Line2D at 0x28d7fb908e0>]"
      ]
     },
     "execution_count": 19,
     "metadata": {},
     "output_type": "execute_result"
    },
    {
     "data": {
      "image/png": "[encoded data removed]",
      "text/plain": [
       "<Figure size 432x288 with 1 Axes>"
      ]
     },
     "metadata": {
      "needs_background": "light"
     },
     "output_type": "display_data"
    }
   ],
   "source": [
    "import matplotlib.pyplot as plt\n",
    "plt.plot(val_results['Val Predictions'][:200])\n",
    "plt.plot(val_results['Actuals'][:200])"
   ]
  },
  {
   "cell_type": "code",
   "execution_count": 20,
   "id": "31e9e70c",
   "metadata": {},
   "outputs": [
    {
     "name": "stdout",
     "output_type": "stream",
     "text": [
      "946/946 [==============================] - 5s 5ms/step\n"
     ]
    },
    {
     "data": {
      "text/html": [
       "<div>\n",
       "<style scoped>\n",
       "    .dataframe tbody tr th:only-of-type {\n",
       "        vertical-align: middle;\n",
       "    }\n",
       "\n",
       "    .dataframe tbody tr th {\n",
       "        vertical-align: top;\n",
       "    }\n",
       "\n",
       "    .dataframe thead th {\n",
       "        text-align: right;\n",
       "    }\n",
       "</style>\n",
       "<table border=\"1\" class=\"dataframe\">\n",
       "  <thead>\n",
       "    <tr style=\"text-align: right;\">\n",
       "      <th></th>\n",
       "      <th>Test Predictions</th>\n",
       "      <th>Actuals</th>\n",
       "    </tr>\n",
       "  </thead>\n",
       "  <tbody>\n",
       "    <tr>\n",
       "      <th>0</th>\n",
       "      <td>302.151093</td>\n",
       "      <td>302.508687</td>\n",
       "    </tr>\n",
       "    <tr>\n",
       "      <th>1</th>\n",
       "      <td>302.297394</td>\n",
       "      <td>302.481909</td>\n",
       "    </tr>\n",
       "    <tr>\n",
       "      <th>2</th>\n",
       "      <td>302.365143</td>\n",
       "      <td>301.825088</td>\n",
       "    </tr>\n",
       "    <tr>\n",
       "      <th>3</th>\n",
       "      <td>301.667145</td>\n",
       "      <td>301.939274</td>\n",
       "    </tr>\n",
       "    <tr>\n",
       "      <th>4</th>\n",
       "      <td>301.791046</td>\n",
       "      <td>301.493141</td>\n",
       "    </tr>\n",
       "    <tr>\n",
       "      <th>...</th>\n",
       "      <td>...</td>\n",
       "      <td>...</td>\n",
       "    </tr>\n",
       "    <tr>\n",
       "      <th>30241</th>\n",
       "      <td>291.165588</td>\n",
       "      <td>291.188584</td>\n",
       "    </tr>\n",
       "    <tr>\n",
       "      <th>30242</th>\n",
       "      <td>291.665405</td>\n",
       "      <td>290.636282</td>\n",
       "    </tr>\n",
       "    <tr>\n",
       "      <th>30243</th>\n",
       "      <td>291.088501</td>\n",
       "      <td>290.887008</td>\n",
       "    </tr>\n",
       "    <tr>\n",
       "      <th>30244</th>\n",
       "      <td>291.299927</td>\n",
       "      <td>290.194742</td>\n",
       "    </tr>\n",
       "    <tr>\n",
       "      <th>30245</th>\n",
       "      <td>290.580597</td>\n",
       "      <td>290.125264</td>\n",
       "    </tr>\n",
       "  </tbody>\n",
       "</table>\n",
       "<p>30246 rows × 2 columns</p>\n",
       "</div>"
      ],
      "text/plain": [
       "       Test Predictions     Actuals\n",
       "0            302.151093  302.508687\n",
       "1            302.297394  302.481909\n",
       "2            302.365143  301.825088\n",
       "3            301.667145  301.939274\n",
       "4            301.791046  301.493141\n",
       "...                 ...         ...\n",
       "30241        291.165588  291.188584\n",
       "30242        291.665405  290.636282\n",
       "30243        291.088501  290.887008\n",
       "30244        291.299927  290.194742\n",
       "30245        290.580597  290.125264\n",
       "\n",
       "[30246 rows x 2 columns]"
      ]
     },
     "execution_count": 20,
     "metadata": {},
     "output_type": "execute_result"
    }
   ],
   "source": [
    "test_predictions=model1.predict(X_test).flatten()\n",
    "test_results=pd.DataFrame(data={'Test Predictions': test_predictions, 'Actuals': y_test})\n",
    "test_results"
   ]
  },
  {
   "cell_type": "code",
   "execution_count": 21,
   "id": "71a0c4f1",
   "metadata": {},
   "outputs": [
    {
     "data": {
      "text/plain": [
       "[<matplotlib.lines.Line2D at 0x28d08e67400>]"
      ]
     },
     "execution_count": 21,
     "metadata": {},
     "output_type": "execute_result"
    },
    {
     "data": {
      "image/png": "[encoded data removed]",
      "text/plain": [
       "<Figure size 432x288 with 1 Axes>"
      ]
     },
     "metadata": {
      "needs_background": "light"
     },
     "output_type": "display_data"
    }
   ],
   "source": [
    "import matplotlib.pyplot as plt\n",
    "plt.plot(test_results['Test Predictions'][:200])\n",
    "plt.plot(test_results['Actuals'][:200])"
   ]
  },
  {
   "cell_type": "code",
   "execution_count": null,
   "id": "76b1253f",
   "metadata": {},
   "outputs": [],
   "source": []
  }
 ],
 "metadata": {
  "kernelspec": {
   "display_name": "Python 3 (ipykernel)",
   "language": "python",
   "name": "python3"
  },
  "language_info": {
   "codemirror_mode": {
    "name": "ipython",
    "version": 3
   },
   "file_extension": ".py",
   "mimetype": "text/x-python",
   "name": "python",
   "nbconvert_exporter": "python",
   "pygments_lexer": "ipython3",
   "version": "3.11.5"
  }
 },
 "nbformat": 4,
 "nbformat_minor": 5
}
